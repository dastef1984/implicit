{
 "cells": [
  {
   "cell_type": "code",
   "execution_count": 1,
   "id": "3d0538f5",
   "metadata": {},
   "outputs": [],
   "source": [
    "#Calc Standard Discounted Cumulative Squared Error\n",
    "\n",
    "import numpy as np\n",
    "import pandas as pd\n",
    "\n",
    "\n",
    "def sdcse(relevance_vector, predicted_vector):\n",
    "    \n",
    "    \"\"\" Calculate STANDARD DISCOUNTED CUMULATIVE SQUARED ERROR\n",
    "    as described in the paper Evaluating Top-N Recommendations\n",
    "    Using Ranked Error Approach: An Empirical Analysis\n",
    "\n",
    "\n",
    "    Parameters\n",
    "    ----------\n",
    "    relevance_vector : relevance vector\n",
    "        relevance vector for each user\n",
    "    predicted_vector : predicted scores for N items\n",
    "    \n",
    "    Each relvec and each predvec are within [1, 5] and [0, 1]\n",
    "    intervals for explicit and implicit feedback.\n",
    "\n",
    "    Returns\n",
    "    -------\n",
    "    float\n",
    "        the calculated SDCSE\n",
    "    \"\"\"\n",
    "        \n",
    "        \n",
    "    # Sort the relevance and predicted vectors in descending order\n",
    "    relvec = np.sort(relevance_vector)[::-1]\n",
    "    predvec = np.sort(predicted_vector)[::-1]\n",
    "    \n",
    "    # Initialize variables for discounted cumulative squared error\n",
    "    # at N, descending squared error, and worst DCSE at N\n",
    "    DCSE_at_N = 0\n",
    "    n = len(relvec)\n",
    "    SE_des = []\n",
    "    WDCSE_at_N = 0\n",
    "    \n",
    "    # Calculate the Discounted Cumulative Squared Error (DCSE) at N\n",
    "    for i in range (1,n+1):\n",
    "        \n",
    "        squared_difference = (relvec[i - 1] - predvec[i - 1])**2\n",
    "        DCSE = squared_difference / np.log2(i + 1)\n",
    "        DCSE_at_N += DCSE\n",
    "    \n",
    "    # Calculate the Squared Error vector\n",
    "    for j in range(1,n+1):\n",
    "        element = (relvec[j - 1] - predvec[j - 1])**2\n",
    "        SE_des.append(element)\n",
    "\n",
    "    # Sort the Squared Error vector in descending order\n",
    "    SE_des.sort(reverse=True)\n",
    "\n",
    "    # Calculate the Worst Discounted Cumulative Squared Error (WDCSE) at N\n",
    "    for k in range(1,n+1):\n",
    "        element2 = SE_des[k - 1] / np.log2(k + 1)\n",
    "        WDCSE_at_N += element2\n",
    "    \n",
    "    # Check if nominator and denominator are 0 (result in \"nan\")\n",
    "    if DCSE_at_N == 0 and WDCSE_at_N == 0:\n",
    "        return 0\n",
    "    else:\n",
    "            SDCSE_at_N = 1 - (DCSE_at_N / WDCSE_at_N)\n",
    "            return SDCSE_at_N\n",
    "        \n",
    "        \n"
   ]
  },
  {
   "cell_type": "code",
   "execution_count": 2,
   "id": "051adbd3",
   "metadata": {},
   "outputs": [],
   "source": [
    "def get_predicted_and_actual(user_id, model, plays_train, plays_test, k):\n",
    "    # Get the model's top-k recommendations for the user\n",
    "    ids, scores = model.recommend(user_id, plays_train[user_id], N=k)\n",
    "    user_recommendations = [(x, y) for x, y in zip(ids, scores)]\n",
    "\n",
    "    # Get the indices of the user's actual interactions in the test set\n",
    "    actual_indices = set(plays_test[user_id].nonzero()[1])\n",
    "\n",
    "    # Get the indices of the recommended items for the user\n",
    "    recommended_indices = [item_id for item_id, _ in user_recommendations]\n",
    "\n",
    "    # Get the intersection of the actual and recommended item indices (i.e., the hits)\n",
    "    hit_indices = actual_indices.intersection(recommended_indices)\n",
    "\n",
    "    # Convert the hit indices to arrays of recommended and actual items\n",
    "    predicted_items = np.array([1 if i in recommended_indices else 0 for i in range(plays_train.shape[1])])\n",
    "    actual_items = np.array([1 if i in actual_indices else 0 for i in range(plays_train.shape[1])])\n",
    "\n",
    "    return predicted_items, actual_items"
   ]
  },
  {
   "cell_type": "code",
   "execution_count": 3,
   "id": "bdb549c6",
   "metadata": {},
   "outputs": [],
   "source": [
    "from implicit.datasets.lastfm import get_lastfm\n",
    "from implicit.evaluation import train_test_split\n",
    "\n",
    "# Get lastfm dataset\n",
    "artists, users, artist_user_plays = get_lastfm()\n",
    "\n",
    "# transpose item-user to user-item matrix\n",
    "user_plays = artist_user_plays.T.tocsr()\n",
    "\n",
    "# split user-item matrix into training set and test set (80%-20%)\n",
    "train_split, test_split = train_test_split(user_plays)"
   ]
  },
  {
   "cell_type": "code",
   "execution_count": 4,
   "id": "24a97490",
   "metadata": {},
   "outputs": [
    {
     "data": {
      "application/vnd.jupyter.widget-view+json": {
       "model_id": "59c4e49ef0f64f2785e9100aef1cab94",
       "version_major": 2,
       "version_minor": 0
      },
      "text/plain": [
       "  0%|          | 0/15 [00:00<?, ?it/s]"
      ]
     },
     "metadata": {},
     "output_type": "display_data"
    }
   ],
   "source": [
    "from implicit.als import AlternatingLeastSquares\n",
    "\n",
    "# Choose ALS as method, train the model with the training dataset\n",
    "model = AlternatingLeastSquares(factors=64, regularization=0.05, alpha=2.0)\n",
    "model.fit(train_split)"
   ]
  },
  {
   "cell_type": "code",
   "execution_count": 5,
   "id": "8c892d1a",
   "metadata": {},
   "outputs": [
    {
     "name": "stdout",
     "output_type": "stream",
     "text": [
      "0.7210570543488701\n"
     ]
    }
   ],
   "source": [
    "# Calc SDCSE for a single user\n",
    "\n",
    "user_id = 12345\n",
    "K = 10\n",
    "\n",
    "# Function call to get the numpy-array of predicted and actual items of a single user\n",
    "predicted, actual = get_predicted_and_actual(user_id, model, train_split, test_split, K)\n",
    "\n",
    "# Function call for the calulation of SDCSE of a single user\n",
    "result = sdcse(actual, predicted)\n",
    "\n",
    "# Result\n",
    "print(result)"
   ]
  },
  {
   "cell_type": "code",
   "execution_count": 6,
   "id": "382c64c2",
   "metadata": {},
   "outputs": [
    {
     "name": "stdout",
     "output_type": "stream",
     "text": [
      "0.5426394045324289\n"
     ]
    }
   ],
   "source": [
    "# Counter for how many user the average SDCSE get calulated\n",
    "user_count = 10\n",
    "# Float result of a single SDCSE calculation\n",
    "result = 0\n",
    "# User index where to start the calculation\n",
    "i = 100\n",
    "# Nominator for average calculation\n",
    "summ = 0\n",
    "# Denominator for average calculation, where no \"nan\" is returned from sdcse()\n",
    "successful = 0\n",
    "\n",
    "# Calculate the average SDCSE for the given user count\n",
    "for i in range(user_count):\n",
    "    predicted, actual = get_predicted_and_actual(i, model, train_split, test_split, 10)\n",
    "    result = sdcse(actual, predicted)\n",
    "    if(result == 'nan'):\n",
    "        continue\n",
    "    else:\n",
    "        successful += 1\n",
    "        summ += result\n",
    "    \n",
    "average_sdcse = summ / successful\n",
    "\n",
    "print(average_sdcse)"
   ]
  },
  {
   "cell_type": "code",
   "execution_count": null,
   "id": "b0adf3aa",
   "metadata": {},
   "outputs": [],
   "source": []
  }
 ],
 "metadata": {
  "kernelspec": {
   "display_name": "Python 3 (ipykernel)",
   "language": "python",
   "name": "python3"
  },
  "language_info": {
   "codemirror_mode": {
    "name": "ipython",
    "version": 3
   },
   "file_extension": ".py",
   "mimetype": "text/x-python",
   "name": "python",
   "nbconvert_exporter": "python",
   "pygments_lexer": "ipython3",
   "version": "3.10.6"
  }
 },
 "nbformat": 4,
 "nbformat_minor": 5
}
