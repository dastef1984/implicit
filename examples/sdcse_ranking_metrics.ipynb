{
 "cells": [
  {
   "cell_type": "code",
   "execution_count": 1,
   "id": "75ea9c26",
   "metadata": {},
   "outputs": [],
   "source": [
    "from implicit.datasets.lastfm import get_lastfm\n",
    "\n",
    "artists, users, artist_user_plays = get_lastfm()"
   ]
  },
  {
   "cell_type": "code",
   "execution_count": 2,
   "id": "512f97e2",
   "metadata": {},
   "outputs": [],
   "source": [
    "from implicit.evaluation import train_test_split\n",
    "\n",
    "user_plays = artist_user_plays.T.tocsr()\n",
    "\n",
    "train_split, test_split = train_test_split(user_plays)"
   ]
  },
  {
   "cell_type": "code",
   "execution_count": 3,
   "id": "a9b7a8ec",
   "metadata": {},
   "outputs": [
    {
     "data": {
      "application/vnd.jupyter.widget-view+json": {
       "model_id": "2d99cf1f530f4514af6490437e76a66b",
       "version_major": 2,
       "version_minor": 0
      },
      "text/plain": [
       "  0%|          | 0/15 [00:00<?, ?it/s]"
      ]
     },
     "metadata": {},
     "output_type": "display_data"
    }
   ],
   "source": [
    "from implicit.als import AlternatingLeastSquares\n",
    "\n",
    "model = AlternatingLeastSquares(factors=64, regularization=0.05, alpha=2.0)\n",
    "model.fit(train_split)"
   ]
  },
  {
   "cell_type": "code",
   "execution_count": 4,
   "id": "458f3ddb",
   "metadata": {},
   "outputs": [],
   "source": [
    "#Calc Standard Discounted Cumulative Squared Error\n",
    "\n",
    "import numpy as np\n",
    "import pandas as pd\n",
    "\n",
    "\n",
    "def sdcse(relevance_vector, predicted_vector):\n",
    "    \n",
    "    \"\"\" Calculate STANDARD DISCOUNTED CUMULATIVE SQUARED ERROR\n",
    "    as described in the paper Evaluating Top-N Recommendations\n",
    "    Using Ranked Error Approach: An Empirical Analysis\n",
    "\n",
    "\n",
    "    Parameters\n",
    "    ----------\n",
    "    relevance_vector : relevance vector\n",
    "        relevance vector for each user\n",
    "    predicted_vector : predicted scores for N items\n",
    "    \n",
    "    Each relvec and each predvec are within [1, 5] and [0, 1]\n",
    "    intervals for explicit and implicit feedback.\n",
    "\n",
    "    Returns\n",
    "    -------\n",
    "    float\n",
    "        the calculated SDCSE\n",
    "    \"\"\"\n",
    "        \n",
    "        \n",
    "    # Sort the relevance and predicted vectors in descending order\n",
    "    relvec = np.sort(relevance_vector)[::-1]\n",
    "    predvec = np.sort(predicted_vector)[::-1]\n",
    "    \n",
    "    # Initialize variables for discounted cumulative squared error\n",
    "    # at N, descending squared error, and worst DCSE at N\n",
    "    DCSE_at_N = 0\n",
    "    n = len(relvec)\n",
    "    SE_des = []\n",
    "    WDCSE_at_N = 0\n",
    "    \n",
    "    # Calculate the Discounted Cumulative Squared Error (DCSE) at N\n",
    "    for i in range (1,n+1):\n",
    "        \n",
    "        squared_difference = (relvec[i - 1] - predvec[i - 1])**2\n",
    "        DCSE = squared_difference / np.log2(i + 1)\n",
    "        DCSE_at_N += DCSE\n",
    "    \n",
    "    # Calculate the Squared Error vector\n",
    "    for j in range(1,n+1):\n",
    "        element = (relvec[j - 1] - predvec[j - 1])**2\n",
    "        SE_des.append(element)\n",
    "\n",
    "    # Sort the Squared Error vector in descending order\n",
    "    SE_des.sort(reverse=True)\n",
    "\n",
    "    # Calculate the Worst Discounted Cumulative Squared Error (WDCSE) at N\n",
    "    for k in range(1,n+1):\n",
    "        element2 = SE_des[k - 1] / np.log2(k + 1)\n",
    "        WDCSE_at_N += element2\n",
    "    \n",
    "    # Check if nominator and denominator are 0 (result in \"nan\")\n",
    "    if DCSE_at_N == 0 and WDCSE_at_N == 0:\n",
    "        return 0\n",
    "    else:\n",
    "            SDCSE_at_N = 1 - (DCSE_at_N / WDCSE_at_N)\n",
    "            return SDCSE_at_N\n",
    "        \n",
    "        \n"
   ]
  },
  {
   "cell_type": "code",
   "execution_count": 5,
   "id": "800d192f",
   "metadata": {},
   "outputs": [
    {
     "name": "stdout",
     "output_type": "stream",
     "text": [
      "0.39066188102633453\n"
     ]
    }
   ],
   "source": [
    "# ranking_metrics_at_k converted from cython to python\n",
    "\n",
    "import numpy as np\n",
    "\n",
    "users = test_split.shape[0]\n",
    "items = test_split.shape[1]\n",
    "test_indptr = np.ndarray(test_split.indptr.shape, dtype=np.int32, buffer=test_split.indptr)\n",
    "test_indices = test_split.indices\n",
    "likes = set()\n",
    "batch_size = 1000\n",
    "start_idx = 0\n",
    "sum_sdcse = 0\n",
    "\n",
    "to_generate = np.arange(users, dtype=\"int32\")\n",
    "to_generate = to_generate[np.ediff1d(test_split.indptr) > 0]\n",
    "batch = to_generate[start_idx: start_idx + batch_size]\n",
    "K = 10\n",
    "ids, _ = model.recommend(batch, train_split[batch], N=K)\n",
    "\n",
    "actual_items = np.array([], dtype=np.int32)\n",
    "predicted_items = np.array([], dtype=np.int32)\n",
    "\n",
    "\n",
    "for batch_idx in range(len(batch)):\n",
    "    u = batch[batch_idx]\n",
    "    likes.clear()\n",
    "    for x in range(test_indptr[u], test_indptr[u+1]):\n",
    "        likes.add(test_indices[x])\n",
    "\n",
    "    actual_items = np.concatenate((actual_items, np.array(list(likes), dtype=np.int32)))\n",
    "\n",
    "    predicted_items = np.concatenate((predicted_items, ids[batch_idx]))\n",
    "\n",
    "    relevant = actual_items[test_indptr[u]:test_indptr[u+1]]\n",
    "    predicted = predicted_items[batch_idx*K:(batch_idx+1)*K]\n",
    "    np.array(relevant)\n",
    "    np.array(predicted)\n",
    "    sum_sdcse += sdcse(relevant[:K], predicted[:K])\n",
    "    \n",
    "print(sum_sdcse / batch_size)"
   ]
  }
 ],
 "metadata": {
  "kernelspec": {
   "display_name": "Python 3 (ipykernel)",
   "language": "python",
   "name": "python3"
  },
  "language_info": {
   "codemirror_mode": {
    "name": "ipython",
    "version": 3
   },
   "file_extension": ".py",
   "mimetype": "text/x-python",
   "name": "python",
   "nbconvert_exporter": "python",
   "pygments_lexer": "ipython3",
   "version": "3.10.6"
  }
 },
 "nbformat": 4,
 "nbformat_minor": 5
}
